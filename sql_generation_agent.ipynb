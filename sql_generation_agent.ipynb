{
  "cells": [
    {
      "cell_type": "markdown",
      "metadata": {
        "id": "NOEKmd1_-b6v"
      },
      "source": [
        "## SQL Generation Agent with DuckDB"
      ]
    },
    {
      "cell_type": "code",
      "execution_count": 20,
      "metadata": {
        "id": "oz88pZdg-b6w",
        "outputId": "69b1f81b-f996-4008-8d18-8c1fb71546d2",
        "colab": {
          "base_uri": "https://localhost:8080/"
        }
      },
      "outputs": [
        {
          "output_type": "stream",
          "name": "stdout",
          "text": [
            "Requirement already satisfied: langchain_community in /usr/local/lib/python3.11/dist-packages (0.3.14)\n",
            "Requirement already satisfied: PyYAML>=5.3 in /usr/local/lib/python3.11/dist-packages (from langchain_community) (6.0.2)\n",
            "Requirement already satisfied: SQLAlchemy<3,>=1.4 in /usr/local/lib/python3.11/dist-packages (from langchain_community) (2.0.37)\n",
            "Requirement already satisfied: aiohttp<4.0.0,>=3.8.3 in /usr/local/lib/python3.11/dist-packages (from langchain_community) (3.11.11)\n",
            "Requirement already satisfied: dataclasses-json<0.7,>=0.5.7 in /usr/local/lib/python3.11/dist-packages (from langchain_community) (0.6.7)\n",
            "Requirement already satisfied: httpx-sse<0.5.0,>=0.4.0 in /usr/local/lib/python3.11/dist-packages (from langchain_community) (0.4.0)\n",
            "Requirement already satisfied: langchain<0.4.0,>=0.3.14 in /usr/local/lib/python3.11/dist-packages (from langchain_community) (0.3.14)\n",
            "Requirement already satisfied: langchain-core<0.4.0,>=0.3.29 in /usr/local/lib/python3.11/dist-packages (from langchain_community) (0.3.29)\n",
            "Requirement already satisfied: langsmith<0.3,>=0.1.125 in /usr/local/lib/python3.11/dist-packages (from langchain_community) (0.2.10)\n",
            "Requirement already satisfied: numpy<2,>=1.22.4 in /usr/local/lib/python3.11/dist-packages (from langchain_community) (1.26.4)\n",
            "Requirement already satisfied: pydantic-settings<3.0.0,>=2.4.0 in /usr/local/lib/python3.11/dist-packages (from langchain_community) (2.7.1)\n",
            "Requirement already satisfied: requests<3,>=2 in /usr/local/lib/python3.11/dist-packages (from langchain_community) (2.32.3)\n",
            "Requirement already satisfied: tenacity!=8.4.0,<10,>=8.1.0 in /usr/local/lib/python3.11/dist-packages (from langchain_community) (9.0.0)\n",
            "Requirement already satisfied: aiohappyeyeballs>=2.3.0 in /usr/local/lib/python3.11/dist-packages (from aiohttp<4.0.0,>=3.8.3->langchain_community) (2.4.4)\n",
            "Requirement already satisfied: aiosignal>=1.1.2 in /usr/local/lib/python3.11/dist-packages (from aiohttp<4.0.0,>=3.8.3->langchain_community) (1.3.2)\n",
            "Requirement already satisfied: attrs>=17.3.0 in /usr/local/lib/python3.11/dist-packages (from aiohttp<4.0.0,>=3.8.3->langchain_community) (24.3.0)\n",
            "Requirement already satisfied: frozenlist>=1.1.1 in /usr/local/lib/python3.11/dist-packages (from aiohttp<4.0.0,>=3.8.3->langchain_community) (1.5.0)\n",
            "Requirement already satisfied: multidict<7.0,>=4.5 in /usr/local/lib/python3.11/dist-packages (from aiohttp<4.0.0,>=3.8.3->langchain_community) (6.1.0)\n",
            "Requirement already satisfied: propcache>=0.2.0 in /usr/local/lib/python3.11/dist-packages (from aiohttp<4.0.0,>=3.8.3->langchain_community) (0.2.1)\n",
            "Requirement already satisfied: yarl<2.0,>=1.17.0 in /usr/local/lib/python3.11/dist-packages (from aiohttp<4.0.0,>=3.8.3->langchain_community) (1.18.3)\n",
            "Requirement already satisfied: marshmallow<4.0.0,>=3.18.0 in /usr/local/lib/python3.11/dist-packages (from dataclasses-json<0.7,>=0.5.7->langchain_community) (3.25.1)\n",
            "Requirement already satisfied: typing-inspect<1,>=0.4.0 in /usr/local/lib/python3.11/dist-packages (from dataclasses-json<0.7,>=0.5.7->langchain_community) (0.9.0)\n",
            "Requirement already satisfied: langchain-text-splitters<0.4.0,>=0.3.3 in /usr/local/lib/python3.11/dist-packages (from langchain<0.4.0,>=0.3.14->langchain_community) (0.3.5)\n",
            "Requirement already satisfied: pydantic<3.0.0,>=2.7.4 in /usr/local/lib/python3.11/dist-packages (from langchain<0.4.0,>=0.3.14->langchain_community) (2.10.5)\n",
            "Requirement already satisfied: jsonpatch<2.0,>=1.33 in /usr/local/lib/python3.11/dist-packages (from langchain-core<0.4.0,>=0.3.29->langchain_community) (1.33)\n",
            "Requirement already satisfied: packaging<25,>=23.2 in /usr/local/lib/python3.11/dist-packages (from langchain-core<0.4.0,>=0.3.29->langchain_community) (24.2)\n",
            "Requirement already satisfied: typing-extensions>=4.7 in /usr/local/lib/python3.11/dist-packages (from langchain-core<0.4.0,>=0.3.29->langchain_community) (4.12.2)\n",
            "Requirement already satisfied: httpx<1,>=0.23.0 in /usr/local/lib/python3.11/dist-packages (from langsmith<0.3,>=0.1.125->langchain_community) (0.28.1)\n",
            "Requirement already satisfied: orjson<4.0.0,>=3.9.14 in /usr/local/lib/python3.11/dist-packages (from langsmith<0.3,>=0.1.125->langchain_community) (3.10.14)\n",
            "Requirement already satisfied: requests-toolbelt<2.0.0,>=1.0.0 in /usr/local/lib/python3.11/dist-packages (from langsmith<0.3,>=0.1.125->langchain_community) (1.0.0)\n",
            "Requirement already satisfied: python-dotenv>=0.21.0 in /usr/local/lib/python3.11/dist-packages (from pydantic-settings<3.0.0,>=2.4.0->langchain_community) (1.0.1)\n",
            "Requirement already satisfied: charset-normalizer<4,>=2 in /usr/local/lib/python3.11/dist-packages (from requests<3,>=2->langchain_community) (3.4.1)\n",
            "Requirement already satisfied: idna<4,>=2.5 in /usr/local/lib/python3.11/dist-packages (from requests<3,>=2->langchain_community) (3.10)\n",
            "Requirement already satisfied: urllib3<3,>=1.21.1 in /usr/local/lib/python3.11/dist-packages (from requests<3,>=2->langchain_community) (2.3.0)\n",
            "Requirement already satisfied: certifi>=2017.4.17 in /usr/local/lib/python3.11/dist-packages (from requests<3,>=2->langchain_community) (2024.12.14)\n",
            "Requirement already satisfied: greenlet!=0.4.17 in /usr/local/lib/python3.11/dist-packages (from SQLAlchemy<3,>=1.4->langchain_community) (3.1.1)\n",
            "Requirement already satisfied: anyio in /usr/local/lib/python3.11/dist-packages (from httpx<1,>=0.23.0->langsmith<0.3,>=0.1.125->langchain_community) (3.7.1)\n",
            "Requirement already satisfied: httpcore==1.* in /usr/local/lib/python3.11/dist-packages (from httpx<1,>=0.23.0->langsmith<0.3,>=0.1.125->langchain_community) (1.0.7)\n",
            "Requirement already satisfied: h11<0.15,>=0.13 in /usr/local/lib/python3.11/dist-packages (from httpcore==1.*->httpx<1,>=0.23.0->langsmith<0.3,>=0.1.125->langchain_community) (0.14.0)\n",
            "Requirement already satisfied: jsonpointer>=1.9 in /usr/local/lib/python3.11/dist-packages (from jsonpatch<2.0,>=1.33->langchain-core<0.4.0,>=0.3.29->langchain_community) (3.0.0)\n",
            "Requirement already satisfied: annotated-types>=0.6.0 in /usr/local/lib/python3.11/dist-packages (from pydantic<3.0.0,>=2.7.4->langchain<0.4.0,>=0.3.14->langchain_community) (0.7.0)\n",
            "Requirement already satisfied: pydantic-core==2.27.2 in /usr/local/lib/python3.11/dist-packages (from pydantic<3.0.0,>=2.7.4->langchain<0.4.0,>=0.3.14->langchain_community) (2.27.2)\n",
            "Requirement already satisfied: mypy-extensions>=0.3.0 in /usr/local/lib/python3.11/dist-packages (from typing-inspect<1,>=0.4.0->dataclasses-json<0.7,>=0.5.7->langchain_community) (1.0.0)\n",
            "Requirement already satisfied: sniffio>=1.1 in /usr/local/lib/python3.11/dist-packages (from anyio->httpx<1,>=0.23.0->langsmith<0.3,>=0.1.125->langchain_community) (1.3.1)\n",
            "Requirement already satisfied: langchain in /usr/local/lib/python3.11/dist-packages (0.3.14)\n",
            "Requirement already satisfied: PyYAML>=5.3 in /usr/local/lib/python3.11/dist-packages (from langchain) (6.0.2)\n",
            "Requirement already satisfied: SQLAlchemy<3,>=1.4 in /usr/local/lib/python3.11/dist-packages (from langchain) (2.0.37)\n",
            "Requirement already satisfied: aiohttp<4.0.0,>=3.8.3 in /usr/local/lib/python3.11/dist-packages (from langchain) (3.11.11)\n",
            "Requirement already satisfied: langchain-core<0.4.0,>=0.3.29 in /usr/local/lib/python3.11/dist-packages (from langchain) (0.3.29)\n",
            "Requirement already satisfied: langchain-text-splitters<0.4.0,>=0.3.3 in /usr/local/lib/python3.11/dist-packages (from langchain) (0.3.5)\n",
            "Requirement already satisfied: langsmith<0.3,>=0.1.17 in /usr/local/lib/python3.11/dist-packages (from langchain) (0.2.10)\n",
            "Requirement already satisfied: numpy<2,>=1.22.4 in /usr/local/lib/python3.11/dist-packages (from langchain) (1.26.4)\n",
            "Requirement already satisfied: pydantic<3.0.0,>=2.7.4 in /usr/local/lib/python3.11/dist-packages (from langchain) (2.10.5)\n",
            "Requirement already satisfied: requests<3,>=2 in /usr/local/lib/python3.11/dist-packages (from langchain) (2.32.3)\n",
            "Requirement already satisfied: tenacity!=8.4.0,<10,>=8.1.0 in /usr/local/lib/python3.11/dist-packages (from langchain) (9.0.0)\n",
            "Requirement already satisfied: aiohappyeyeballs>=2.3.0 in /usr/local/lib/python3.11/dist-packages (from aiohttp<4.0.0,>=3.8.3->langchain) (2.4.4)\n",
            "Requirement already satisfied: aiosignal>=1.1.2 in /usr/local/lib/python3.11/dist-packages (from aiohttp<4.0.0,>=3.8.3->langchain) (1.3.2)\n",
            "Requirement already satisfied: attrs>=17.3.0 in /usr/local/lib/python3.11/dist-packages (from aiohttp<4.0.0,>=3.8.3->langchain) (24.3.0)\n",
            "Requirement already satisfied: frozenlist>=1.1.1 in /usr/local/lib/python3.11/dist-packages (from aiohttp<4.0.0,>=3.8.3->langchain) (1.5.0)\n",
            "Requirement already satisfied: multidict<7.0,>=4.5 in /usr/local/lib/python3.11/dist-packages (from aiohttp<4.0.0,>=3.8.3->langchain) (6.1.0)\n",
            "Requirement already satisfied: propcache>=0.2.0 in /usr/local/lib/python3.11/dist-packages (from aiohttp<4.0.0,>=3.8.3->langchain) (0.2.1)\n",
            "Requirement already satisfied: yarl<2.0,>=1.17.0 in /usr/local/lib/python3.11/dist-packages (from aiohttp<4.0.0,>=3.8.3->langchain) (1.18.3)\n",
            "Requirement already satisfied: jsonpatch<2.0,>=1.33 in /usr/local/lib/python3.11/dist-packages (from langchain-core<0.4.0,>=0.3.29->langchain) (1.33)\n",
            "Requirement already satisfied: packaging<25,>=23.2 in /usr/local/lib/python3.11/dist-packages (from langchain-core<0.4.0,>=0.3.29->langchain) (24.2)\n",
            "Requirement already satisfied: typing-extensions>=4.7 in /usr/local/lib/python3.11/dist-packages (from langchain-core<0.4.0,>=0.3.29->langchain) (4.12.2)\n",
            "Requirement already satisfied: httpx<1,>=0.23.0 in /usr/local/lib/python3.11/dist-packages (from langsmith<0.3,>=0.1.17->langchain) (0.28.1)\n",
            "Requirement already satisfied: orjson<4.0.0,>=3.9.14 in /usr/local/lib/python3.11/dist-packages (from langsmith<0.3,>=0.1.17->langchain) (3.10.14)\n",
            "Requirement already satisfied: requests-toolbelt<2.0.0,>=1.0.0 in /usr/local/lib/python3.11/dist-packages (from langsmith<0.3,>=0.1.17->langchain) (1.0.0)\n",
            "Requirement already satisfied: annotated-types>=0.6.0 in /usr/local/lib/python3.11/dist-packages (from pydantic<3.0.0,>=2.7.4->langchain) (0.7.0)\n",
            "Requirement already satisfied: pydantic-core==2.27.2 in /usr/local/lib/python3.11/dist-packages (from pydantic<3.0.0,>=2.7.4->langchain) (2.27.2)\n",
            "Requirement already satisfied: charset-normalizer<4,>=2 in /usr/local/lib/python3.11/dist-packages (from requests<3,>=2->langchain) (3.4.1)\n",
            "Requirement already satisfied: idna<4,>=2.5 in /usr/local/lib/python3.11/dist-packages (from requests<3,>=2->langchain) (3.10)\n",
            "Requirement already satisfied: urllib3<3,>=1.21.1 in /usr/local/lib/python3.11/dist-packages (from requests<3,>=2->langchain) (2.3.0)\n",
            "Requirement already satisfied: certifi>=2017.4.17 in /usr/local/lib/python3.11/dist-packages (from requests<3,>=2->langchain) (2024.12.14)\n",
            "Requirement already satisfied: greenlet!=0.4.17 in /usr/local/lib/python3.11/dist-packages (from SQLAlchemy<3,>=1.4->langchain) (3.1.1)\n",
            "Requirement already satisfied: anyio in /usr/local/lib/python3.11/dist-packages (from httpx<1,>=0.23.0->langsmith<0.3,>=0.1.17->langchain) (3.7.1)\n",
            "Requirement already satisfied: httpcore==1.* in /usr/local/lib/python3.11/dist-packages (from httpx<1,>=0.23.0->langsmith<0.3,>=0.1.17->langchain) (1.0.7)\n",
            "Requirement already satisfied: h11<0.15,>=0.13 in /usr/local/lib/python3.11/dist-packages (from httpcore==1.*->httpx<1,>=0.23.0->langsmith<0.3,>=0.1.17->langchain) (0.14.0)\n",
            "Requirement already satisfied: jsonpointer>=1.9 in /usr/local/lib/python3.11/dist-packages (from jsonpatch<2.0,>=1.33->langchain-core<0.4.0,>=0.3.29->langchain) (3.0.0)\n",
            "Requirement already satisfied: sniffio>=1.1 in /usr/local/lib/python3.11/dist-packages (from anyio->httpx<1,>=0.23.0->langsmith<0.3,>=0.1.17->langchain) (1.3.1)\n"
          ]
        }
      ],
      "source": [
        "!pip install langchain_community\n",
        "!pip install langchain --upgrade\n",
        "\n",
        "\n",
        "# Essential libraries\n",
        "import os  # For setting environment variables\n",
        "import openai  # For OpenAI API interactions\n",
        "import pandas as pd  # For handling data in dataframes\n",
        "import json  # For working with JSON data structures\n",
        "import logging  # For adding logging functionality\n",
        "\n",
        "# LangChain and related utilities\n",
        "from langchain.agents import initialize_agent, Tool  # To initialize LangChain agents and tools\n",
        "from langchain.agents.agent_toolkits import SQLDatabaseToolkit  # For SQL database toolkits\n",
        "from langchain.chat_models import ChatOpenAI  # For OpenAI chat-based models\n",
        "from langchain.prompts import PromptTemplate  # For prompt customization\n",
        "from langchain.sql_database import SQLDatabase  # For SQL database connections\n"
      ]
    },
    {
      "cell_type": "code",
      "execution_count": 89,
      "metadata": {
        "id": "eJdkKQ9M-b6w"
      },
      "outputs": [],
      "source": [
        "os.environ[\"LANGCHAIN_API_KEY\"] = \"YOUR_KEY\"\n",
        "os.environ[\"LANGCHAIN_TRACING_V2\"] = \"true\"\n",
        "os.environ[\"OPENAI_API_KEY\"] = \"YOUR_KEY\""
      ]
    },
    {
      "cell_type": "markdown",
      "metadata": {
        "id": "MT3wGJF1-b6x"
      },
      "source": [
        "### DuckDB Loader Example"
      ]
    },
    {
      "cell_type": "code",
      "execution_count": 90,
      "metadata": {
        "id": "LvVYDE9K-b6x"
      },
      "outputs": [],
      "source": [
        "from langchain_community.document_loaders import DuckDBLoader"
      ]
    },
    {
      "cell_type": "code",
      "execution_count": 127,
      "metadata": {
        "id": "VL1REfhb-b6x",
        "outputId": "5239e125-cbdc-43ae-d048-89818fb9693b",
        "colab": {
          "base_uri": "https://localhost:8080/"
        }
      },
      "outputs": [
        {
          "output_type": "stream",
          "name": "stdout",
          "text": [
            "Table 'safety_occurrences' created successfully.\n",
            "Available tables: [('safety_occurrences',)]\n",
            "Data loaded successfully.\n",
            "[Document(metadata={}, page_content='event_type: Incident\\naircraft_model: A320\\noperation_type: Commercial\\nphase_of_flight: Takeoff\\nseverity: Low\\nreported_by: ATC\\noccurrence_date: 2025-01-01\\nlocation: Heathrow\\ncontributing_factors: Human Error\\ncorrective_actions: Procedure Update'), Document(metadata={}, page_content='event_type: Accident\\naircraft_model: B737\\noperation_type: Cargo\\nphase_of_flight: Climb\\nseverity: Medium\\nreported_by: Pilot\\noccurrence_date: 2025-01-02\\nlocation: JFK\\ncontributing_factors: Weather\\ncorrective_actions: Additional Training'), Document(metadata={}, page_content='event_type: Serious Incident\\naircraft_model: A380\\noperation_type: Private\\nphase_of_flight: Cruise\\nseverity: High\\nreported_by: Ground Crew\\noccurrence_date: 2025-01-03\\nlocation: Changi\\ncontributing_factors: Technical Failure\\ncorrective_actions: Technical Inspection'), Document(metadata={}, page_content='event_type: Incident\\naircraft_model: B777\\noperation_type: Commercial\\nphase_of_flight: Descent\\nseverity: Low\\nreported_by: Passenger\\noccurrence_date: 2025-01-04\\nlocation: Frankfurt\\ncontributing_factors: Bird Strike\\ncorrective_actions: Runway Maintenance'), Document(metadata={}, page_content='event_type: Accident\\naircraft_model: A320\\noperation_type: Cargo\\nphase_of_flight: Landing\\nseverity: Medium\\nreported_by: ATC\\noccurrence_date: 2025-01-05\\nlocation: Dubai\\ncontributing_factors: Human Error\\ncorrective_actions: Procedure Update')]\n"
          ]
        }
      ],
      "source": [
        "from langchain_community.document_loaders.duckdb_loader import DuckDBLoader\n",
        "import duckdb\n",
        "\n",
        "# Define the path to the CSV file and DuckDB database\n",
        "file_path = \"./custom_safety_occurrences_50.csv\"\n",
        "db_path = \"./safety_occurrences.duckdb\"\n",
        "\n",
        "# Connect to DuckDB\n",
        "con = duckdb.connect(database=db_path)  # Persistent DuckDB database\n",
        "\n",
        "# Create a table for the safety occurrences\n",
        "try:\n",
        "    con.execute(f\"DROP TABLE IF EXISTS safety_occurrences\")\n",
        "    con.execute(f\"CREATE TABLE safety_occurrences AS SELECT * FROM read_csv_auto('{file_path}')\")\n",
        "    print(\"Table 'safety_occurrences' created successfully.\")\n",
        "except duckdb.BinderException:\n",
        "    print(\"Table already exists. Skipping creation.\")\n",
        "\n",
        "# Verify table creation\n",
        "try:\n",
        "    tables = con.execute(\"SHOW TABLES\").fetchall()\n",
        "    print(f\"Available tables: {tables}\")\n",
        "except Exception as e:\n",
        "    print(f\"Error listing tables: {e}\")\n",
        "\n",
        "# Use DuckDBLoader to load and query the data\n",
        "query = \"SELECT * FROM safety_occurrences\"\n",
        "\n",
        "loader = DuckDBLoader(query=query, database=db_path)\n",
        "\n",
        "# Load the data\n",
        "try:\n",
        "    data = loader.load()\n",
        "    print(\"Data loaded successfully.\")\n",
        "    print(data[:5])  # Display the first 5 rows for verification\n",
        "except Exception as e:\n",
        "    print(f\"Error loading data: {e}\")\n"
      ]
    },
    {
      "cell_type": "code",
      "execution_count": 128,
      "metadata": {
        "id": "_Jr_Vf8n-b6x",
        "outputId": "329e0127-5df2-4c3d-a78c-0742496e1fc7",
        "colab": {
          "base_uri": "https://localhost:8080/"
        }
      },
      "outputs": [
        {
          "output_type": "execute_result",
          "data": {
            "text/plain": [
              "[Document(metadata={}, page_content='event_type: Incident\\naircraft_model: A320\\noperation_type: Commercial\\nphase_of_flight: Takeoff\\nseverity: Low\\nreported_by: ATC\\noccurrence_date: 2025-01-01\\nlocation: Heathrow\\ncontributing_factors: Human Error\\ncorrective_actions: Procedure Update'),\n",
              " Document(metadata={}, page_content='event_type: Accident\\naircraft_model: B737\\noperation_type: Cargo\\nphase_of_flight: Climb\\nseverity: Medium\\nreported_by: Pilot\\noccurrence_date: 2025-01-02\\nlocation: JFK\\ncontributing_factors: Weather\\ncorrective_actions: Additional Training'),\n",
              " Document(metadata={}, page_content='event_type: Serious Incident\\naircraft_model: A380\\noperation_type: Private\\nphase_of_flight: Cruise\\nseverity: High\\nreported_by: Ground Crew\\noccurrence_date: 2025-01-03\\nlocation: Changi\\ncontributing_factors: Technical Failure\\ncorrective_actions: Technical Inspection'),\n",
              " Document(metadata={}, page_content='event_type: Incident\\naircraft_model: B777\\noperation_type: Commercial\\nphase_of_flight: Descent\\nseverity: Low\\nreported_by: Passenger\\noccurrence_date: 2025-01-04\\nlocation: Frankfurt\\ncontributing_factors: Bird Strike\\ncorrective_actions: Runway Maintenance'),\n",
              " Document(metadata={}, page_content='event_type: Accident\\naircraft_model: A320\\noperation_type: Cargo\\nphase_of_flight: Landing\\nseverity: Medium\\nreported_by: ATC\\noccurrence_date: 2025-01-05\\nlocation: Dubai\\ncontributing_factors: Human Error\\ncorrective_actions: Procedure Update'),\n",
              " Document(metadata={}, page_content='event_type: Serious Incident\\naircraft_model: B737\\noperation_type: Private\\nphase_of_flight: Takeoff\\nseverity: High\\nreported_by: Pilot\\noccurrence_date: 2025-01-06\\nlocation: Heathrow\\ncontributing_factors: Weather\\ncorrective_actions: Additional Training'),\n",
              " Document(metadata={}, page_content='event_type: Incident\\naircraft_model: A380\\noperation_type: Commercial\\nphase_of_flight: Climb\\nseverity: Low\\nreported_by: Ground Crew\\noccurrence_date: 2025-01-07\\nlocation: JFK\\ncontributing_factors: Technical Failure\\ncorrective_actions: Technical Inspection'),\n",
              " Document(metadata={}, page_content='event_type: Accident\\naircraft_model: B777\\noperation_type: Cargo\\nphase_of_flight: Cruise\\nseverity: Medium\\nreported_by: Passenger\\noccurrence_date: 2025-01-08\\nlocation: Changi\\ncontributing_factors: Bird Strike\\ncorrective_actions: Runway Maintenance'),\n",
              " Document(metadata={}, page_content='event_type: Serious Incident\\naircraft_model: A320\\noperation_type: Private\\nphase_of_flight: Descent\\nseverity: High\\nreported_by: ATC\\noccurrence_date: 2025-01-09\\nlocation: Frankfurt\\ncontributing_factors: Human Error\\ncorrective_actions: Procedure Update'),\n",
              " Document(metadata={}, page_content='event_type: Incident\\naircraft_model: B737\\noperation_type: Commercial\\nphase_of_flight: Landing\\nseverity: Low\\nreported_by: Pilot\\noccurrence_date: 2025-01-10\\nlocation: Dubai\\ncontributing_factors: Weather\\ncorrective_actions: Additional Training'),\n",
              " Document(metadata={}, page_content='event_type: Accident\\naircraft_model: A380\\noperation_type: Cargo\\nphase_of_flight: Takeoff\\nseverity: Medium\\nreported_by: Ground Crew\\noccurrence_date: 2025-01-11\\nlocation: Heathrow\\ncontributing_factors: Technical Failure\\ncorrective_actions: Technical Inspection'),\n",
              " Document(metadata={}, page_content='event_type: Serious Incident\\naircraft_model: B777\\noperation_type: Private\\nphase_of_flight: Climb\\nseverity: High\\nreported_by: Passenger\\noccurrence_date: 2025-01-12\\nlocation: JFK\\ncontributing_factors: Bird Strike\\ncorrective_actions: Runway Maintenance'),\n",
              " Document(metadata={}, page_content='event_type: Incident\\naircraft_model: A320\\noperation_type: Commercial\\nphase_of_flight: Cruise\\nseverity: Low\\nreported_by: ATC\\noccurrence_date: 2025-01-13\\nlocation: Changi\\ncontributing_factors: Human Error\\ncorrective_actions: Procedure Update'),\n",
              " Document(metadata={}, page_content='event_type: Accident\\naircraft_model: B737\\noperation_type: Cargo\\nphase_of_flight: Descent\\nseverity: Medium\\nreported_by: Pilot\\noccurrence_date: 2025-01-14\\nlocation: Frankfurt\\ncontributing_factors: Weather\\ncorrective_actions: Additional Training'),\n",
              " Document(metadata={}, page_content='event_type: Serious Incident\\naircraft_model: A380\\noperation_type: Private\\nphase_of_flight: Landing\\nseverity: High\\nreported_by: Ground Crew\\noccurrence_date: 2025-01-15\\nlocation: Dubai\\ncontributing_factors: Technical Failure\\ncorrective_actions: Technical Inspection'),\n",
              " Document(metadata={}, page_content='event_type: Incident\\naircraft_model: B777\\noperation_type: Commercial\\nphase_of_flight: Takeoff\\nseverity: Low\\nreported_by: Passenger\\noccurrence_date: 2025-01-16\\nlocation: Heathrow\\ncontributing_factors: Bird Strike\\ncorrective_actions: Runway Maintenance'),\n",
              " Document(metadata={}, page_content='event_type: Accident\\naircraft_model: A320\\noperation_type: Cargo\\nphase_of_flight: Climb\\nseverity: Medium\\nreported_by: ATC\\noccurrence_date: 2025-01-17\\nlocation: JFK\\ncontributing_factors: Human Error\\ncorrective_actions: Procedure Update'),\n",
              " Document(metadata={}, page_content='event_type: Serious Incident\\naircraft_model: B737\\noperation_type: Private\\nphase_of_flight: Cruise\\nseverity: High\\nreported_by: Pilot\\noccurrence_date: 2025-01-18\\nlocation: Changi\\ncontributing_factors: Weather\\ncorrective_actions: Additional Training'),\n",
              " Document(metadata={}, page_content='event_type: Incident\\naircraft_model: A380\\noperation_type: Commercial\\nphase_of_flight: Descent\\nseverity: Low\\nreported_by: Ground Crew\\noccurrence_date: 2025-01-19\\nlocation: Frankfurt\\ncontributing_factors: Technical Failure\\ncorrective_actions: Technical Inspection'),\n",
              " Document(metadata={}, page_content='event_type: Accident\\naircraft_model: B777\\noperation_type: Cargo\\nphase_of_flight: Landing\\nseverity: Medium\\nreported_by: Passenger\\noccurrence_date: 2025-01-20\\nlocation: Dubai\\ncontributing_factors: Bird Strike\\ncorrective_actions: Runway Maintenance'),\n",
              " Document(metadata={}, page_content='event_type: Serious Incident\\naircraft_model: A320\\noperation_type: Private\\nphase_of_flight: Takeoff\\nseverity: High\\nreported_by: ATC\\noccurrence_date: 2025-01-21\\nlocation: Heathrow\\ncontributing_factors: Human Error\\ncorrective_actions: Procedure Update'),\n",
              " Document(metadata={}, page_content='event_type: Incident\\naircraft_model: B737\\noperation_type: Commercial\\nphase_of_flight: Climb\\nseverity: Low\\nreported_by: Pilot\\noccurrence_date: 2025-01-22\\nlocation: JFK\\ncontributing_factors: Weather\\ncorrective_actions: Additional Training'),\n",
              " Document(metadata={}, page_content='event_type: Accident\\naircraft_model: A380\\noperation_type: Cargo\\nphase_of_flight: Cruise\\nseverity: Medium\\nreported_by: Ground Crew\\noccurrence_date: 2025-01-23\\nlocation: Changi\\ncontributing_factors: Technical Failure\\ncorrective_actions: Technical Inspection'),\n",
              " Document(metadata={}, page_content='event_type: Serious Incident\\naircraft_model: B777\\noperation_type: Private\\nphase_of_flight: Descent\\nseverity: High\\nreported_by: Passenger\\noccurrence_date: 2025-01-24\\nlocation: Frankfurt\\ncontributing_factors: Bird Strike\\ncorrective_actions: Runway Maintenance'),\n",
              " Document(metadata={}, page_content='event_type: Incident\\naircraft_model: A320\\noperation_type: Commercial\\nphase_of_flight: Landing\\nseverity: Low\\nreported_by: ATC\\noccurrence_date: 2025-01-25\\nlocation: Dubai\\ncontributing_factors: Human Error\\ncorrective_actions: Procedure Update'),\n",
              " Document(metadata={}, page_content='event_type: Accident\\naircraft_model: B737\\noperation_type: Cargo\\nphase_of_flight: Takeoff\\nseverity: Medium\\nreported_by: Pilot\\noccurrence_date: 2025-01-26\\nlocation: Heathrow\\ncontributing_factors: Weather\\ncorrective_actions: Additional Training'),\n",
              " Document(metadata={}, page_content='event_type: Serious Incident\\naircraft_model: A380\\noperation_type: Private\\nphase_of_flight: Climb\\nseverity: High\\nreported_by: Ground Crew\\noccurrence_date: 2025-01-27\\nlocation: JFK\\ncontributing_factors: Technical Failure\\ncorrective_actions: Technical Inspection'),\n",
              " Document(metadata={}, page_content='event_type: Incident\\naircraft_model: B777\\noperation_type: Commercial\\nphase_of_flight: Cruise\\nseverity: Low\\nreported_by: Passenger\\noccurrence_date: 2025-01-28\\nlocation: Changi\\ncontributing_factors: Bird Strike\\ncorrective_actions: Runway Maintenance'),\n",
              " Document(metadata={}, page_content='event_type: Accident\\naircraft_model: A320\\noperation_type: Cargo\\nphase_of_flight: Descent\\nseverity: Medium\\nreported_by: ATC\\noccurrence_date: 2025-01-29\\nlocation: Frankfurt\\ncontributing_factors: Human Error\\ncorrective_actions: Procedure Update'),\n",
              " Document(metadata={}, page_content='event_type: Serious Incident\\naircraft_model: B737\\noperation_type: Private\\nphase_of_flight: Landing\\nseverity: High\\nreported_by: Pilot\\noccurrence_date: 2025-01-30\\nlocation: Dubai\\ncontributing_factors: Weather\\ncorrective_actions: Additional Training'),\n",
              " Document(metadata={}, page_content='event_type: Incident\\naircraft_model: A380\\noperation_type: Commercial\\nphase_of_flight: Takeoff\\nseverity: Low\\nreported_by: Ground Crew\\noccurrence_date: 2025-01-31\\nlocation: Heathrow\\ncontributing_factors: Technical Failure\\ncorrective_actions: Technical Inspection'),\n",
              " Document(metadata={}, page_content='event_type: Accident\\naircraft_model: B777\\noperation_type: Cargo\\nphase_of_flight: Climb\\nseverity: Medium\\nreported_by: Passenger\\noccurrence_date: 2025-02-01\\nlocation: JFK\\ncontributing_factors: Bird Strike\\ncorrective_actions: Runway Maintenance'),\n",
              " Document(metadata={}, page_content='event_type: Serious Incident\\naircraft_model: A320\\noperation_type: Private\\nphase_of_flight: Cruise\\nseverity: High\\nreported_by: ATC\\noccurrence_date: 2025-02-02\\nlocation: Changi\\ncontributing_factors: Human Error\\ncorrective_actions: Procedure Update'),\n",
              " Document(metadata={}, page_content='event_type: Incident\\naircraft_model: B737\\noperation_type: Commercial\\nphase_of_flight: Descent\\nseverity: Low\\nreported_by: Pilot\\noccurrence_date: 2025-02-03\\nlocation: Frankfurt\\ncontributing_factors: Weather\\ncorrective_actions: Additional Training'),\n",
              " Document(metadata={}, page_content='event_type: Accident\\naircraft_model: A380\\noperation_type: Cargo\\nphase_of_flight: Landing\\nseverity: Medium\\nreported_by: Ground Crew\\noccurrence_date: 2025-02-04\\nlocation: Dubai\\ncontributing_factors: Technical Failure\\ncorrective_actions: Technical Inspection'),\n",
              " Document(metadata={}, page_content='event_type: Serious Incident\\naircraft_model: B777\\noperation_type: Private\\nphase_of_flight: Takeoff\\nseverity: High\\nreported_by: Passenger\\noccurrence_date: 2025-02-05\\nlocation: Heathrow\\ncontributing_factors: Bird Strike\\ncorrective_actions: Runway Maintenance'),\n",
              " Document(metadata={}, page_content='event_type: Incident\\naircraft_model: A320\\noperation_type: Commercial\\nphase_of_flight: Climb\\nseverity: Low\\nreported_by: ATC\\noccurrence_date: 2025-02-06\\nlocation: JFK\\ncontributing_factors: Human Error\\ncorrective_actions: Procedure Update'),\n",
              " Document(metadata={}, page_content='event_type: Accident\\naircraft_model: B737\\noperation_type: Cargo\\nphase_of_flight: Cruise\\nseverity: Medium\\nreported_by: Pilot\\noccurrence_date: 2025-02-07\\nlocation: Changi\\ncontributing_factors: Weather\\ncorrective_actions: Additional Training'),\n",
              " Document(metadata={}, page_content='event_type: Serious Incident\\naircraft_model: A380\\noperation_type: Private\\nphase_of_flight: Descent\\nseverity: High\\nreported_by: Ground Crew\\noccurrence_date: 2025-02-08\\nlocation: Frankfurt\\ncontributing_factors: Technical Failure\\ncorrective_actions: Technical Inspection'),\n",
              " Document(metadata={}, page_content='event_type: Incident\\naircraft_model: B777\\noperation_type: Commercial\\nphase_of_flight: Landing\\nseverity: Low\\nreported_by: Passenger\\noccurrence_date: 2025-02-09\\nlocation: Dubai\\ncontributing_factors: Bird Strike\\ncorrective_actions: Runway Maintenance'),\n",
              " Document(metadata={}, page_content='event_type: Accident\\naircraft_model: A320\\noperation_type: Cargo\\nphase_of_flight: Takeoff\\nseverity: Medium\\nreported_by: ATC\\noccurrence_date: 2025-02-10\\nlocation: Heathrow\\ncontributing_factors: Human Error\\ncorrective_actions: Procedure Update'),\n",
              " Document(metadata={}, page_content='event_type: Serious Incident\\naircraft_model: B737\\noperation_type: Private\\nphase_of_flight: Climb\\nseverity: High\\nreported_by: Pilot\\noccurrence_date: 2025-02-11\\nlocation: JFK\\ncontributing_factors: Weather\\ncorrective_actions: Additional Training'),\n",
              " Document(metadata={}, page_content='event_type: Incident\\naircraft_model: A380\\noperation_type: Commercial\\nphase_of_flight: Cruise\\nseverity: Low\\nreported_by: Ground Crew\\noccurrence_date: 2025-02-12\\nlocation: Changi\\ncontributing_factors: Technical Failure\\ncorrective_actions: Technical Inspection'),\n",
              " Document(metadata={}, page_content='event_type: Accident\\naircraft_model: B777\\noperation_type: Cargo\\nphase_of_flight: Descent\\nseverity: Medium\\nreported_by: Passenger\\noccurrence_date: 2025-02-13\\nlocation: Frankfurt\\ncontributing_factors: Bird Strike\\ncorrective_actions: Runway Maintenance'),\n",
              " Document(metadata={}, page_content='event_type: Serious Incident\\naircraft_model: A320\\noperation_type: Private\\nphase_of_flight: Landing\\nseverity: High\\nreported_by: ATC\\noccurrence_date: 2025-02-14\\nlocation: Dubai\\ncontributing_factors: Human Error\\ncorrective_actions: Procedure Update'),\n",
              " Document(metadata={}, page_content='event_type: Incident\\naircraft_model: B737\\noperation_type: Commercial\\nphase_of_flight: Takeoff\\nseverity: Low\\nreported_by: Pilot\\noccurrence_date: 2025-02-15\\nlocation: Heathrow\\ncontributing_factors: Weather\\ncorrective_actions: Additional Training'),\n",
              " Document(metadata={}, page_content='event_type: Accident\\naircraft_model: A380\\noperation_type: Cargo\\nphase_of_flight: Climb\\nseverity: Medium\\nreported_by: Ground Crew\\noccurrence_date: 2025-02-16\\nlocation: JFK\\ncontributing_factors: Technical Failure\\ncorrective_actions: Technical Inspection'),\n",
              " Document(metadata={}, page_content='event_type: Serious Incident\\naircraft_model: B777\\noperation_type: Private\\nphase_of_flight: Cruise\\nseverity: High\\nreported_by: Passenger\\noccurrence_date: 2025-02-17\\nlocation: Changi\\ncontributing_factors: Bird Strike\\ncorrective_actions: Runway Maintenance'),\n",
              " Document(metadata={}, page_content='event_type: Incident\\naircraft_model: A320\\noperation_type: Commercial\\nphase_of_flight: Descent\\nseverity: Low\\nreported_by: ATC\\noccurrence_date: 2025-02-18\\nlocation: Frankfurt\\ncontributing_factors: Human Error\\ncorrective_actions: Procedure Update'),\n",
              " Document(metadata={}, page_content='event_type: Accident\\naircraft_model: B737\\noperation_type: Cargo\\nphase_of_flight: Landing\\nseverity: Medium\\nreported_by: Pilot\\noccurrence_date: 2025-02-19\\nlocation: Dubai\\ncontributing_factors: Weather\\ncorrective_actions: Additional Training')]"
            ]
          },
          "metadata": {},
          "execution_count": 128
        }
      ],
      "source": [
        "data"
      ]
    },
    {
      "cell_type": "markdown",
      "metadata": {
        "id": "2v1X5bi8-b6x"
      },
      "source": [
        "### Build the SQL Generation Agent"
      ]
    },
    {
      "cell_type": "code",
      "execution_count": 129,
      "metadata": {
        "id": "NlPhP0dE-b6y"
      },
      "outputs": [],
      "source": [
        "from typing_extensions import TypedDict\n",
        "\n",
        "\n",
        "class State(TypedDict):\n",
        "    question: str\n",
        "    query: str\n",
        "    result: str\n",
        "    answer: str"
      ]
    },
    {
      "cell_type": "code",
      "execution_count": 130,
      "metadata": {
        "id": "gqwEZGAu-b6y"
      },
      "outputs": [],
      "source": [
        "from langchain.chat_models import ChatOpenAI\n",
        "llm = ChatOpenAI(model=\"gpt-4o\")"
      ]
    },
    {
      "cell_type": "code",
      "execution_count": 131,
      "metadata": {
        "id": "MvzvhM1T-b6y",
        "outputId": "a98ebda5-1dca-45e1-e70a-7234499d5baf",
        "colab": {
          "base_uri": "https://localhost:8080/"
        }
      },
      "outputs": [
        {
          "output_type": "stream",
          "name": "stdout",
          "text": [
            "================================\u001b[1m System Message \u001b[0m================================\n",
            "\n",
            "Given an input question, create a syntactically correct \u001b[33;1m\u001b[1;3m{dialect}\u001b[0m query to run to help find the answer. Unless the user specifies in his question a specific number of examples they wish to obtain, always limit your query to at most \u001b[33;1m\u001b[1;3m{top_k}\u001b[0m results. You can order the results by a relevant column to return the most interesting examples in the database.\n",
            "\n",
            "Never query for all the columns from a specific table, only ask for a the few relevant columns given the question.\n",
            "\n",
            "Pay attention to use only the column names that you can see in the schema description. Be careful to not query for columns that do not exist. Also, pay attention to which column is in which table.\n",
            "\n",
            "Only use the following tables:\n",
            "\u001b[33;1m\u001b[1;3m{table_info}\u001b[0m\n",
            "\n",
            "Question: \u001b[33;1m\u001b[1;3m{input}\u001b[0m\n"
          ]
        }
      ],
      "source": [
        "from langchain import hub\n",
        "query_prompt_template = hub.pull(\"langchain-ai/sql-query-system-prompt\")\n",
        "assert len(query_prompt_template.messages) == 1\n",
        "query_prompt_template.messages[0].pretty_print()\n"
      ]
    },
    {
      "cell_type": "markdown",
      "metadata": {
        "id": "KGo31QAr-b6y"
      },
      "source": [
        "### Define Write Query"
      ]
    },
    {
      "cell_type": "code",
      "execution_count": 136,
      "metadata": {
        "id": "dU6YyeCK-b6y"
      },
      "outputs": [],
      "source": [
        "def write_query(state):\n",
        "    \"\"\"Generate and clean SQL query to fetch information.\"\"\"\n",
        "    # Define the prompt template explicitly for this function\n",
        "    query_prompt_template = \"\"\"\n",
        "    You are an expert SQL generator for the DuckDB database.\n",
        "    The table schema is as follows:\n",
        "\n",
        "    - event_type: The type of event, such as Incident, Accident, or Serious Incident.\n",
        "    - aircraft_model: The model of the aircraft involved, such as A320 or B737.\n",
        "    - operation_type: The type of operation, such as Commercial, Cargo, or Private.\n",
        "    - phase_of_flight: The phase of flight when the event occurred, such as Takeoff, Climb, Cruise, Descent, or Landing.\n",
        "    - severity: The severity of the event, such as Low, Medium, or High.\n",
        "    - reported_by: The entity that reported the event, such as ATC, Pilot, Ground Crew, or Passenger.\n",
        "    - occurrence_date: The date the event occurred, formatted as YYYY-MM-DD.\n",
        "    - location: The location where the event occurred, such as an airport or geographic region.\n",
        "    - contributing_factors: Factors that contributed to the event, such as Human Error, Weather, or Technical Failure.\n",
        "    - corrective_actions: Actions taken to address the event, such as Procedure Update, Additional Training, or Technical Inspection.\n",
        "\n",
        "    The table name is `safety_occurrences`.\n",
        "\n",
        "    Given the question: \"{input}\", write a valid SQL query that works with this schema.\n",
        "    Return only the SQL query, with no explanations.\n",
        "    \"\"\"\n",
        "\n",
        "    # Generate the input prompt\n",
        "    prompt = query_prompt_template.format(input=state[\"question\"])\n",
        "\n",
        "    # Use invoke to call the model\n",
        "    response = llm.invoke(prompt)\n",
        "\n",
        "    # Debugging: Print raw response object\n",
        "    print(f\"Raw LLM Response: {response}\")\n",
        "\n",
        "    # Extract content from the response\n",
        "    if hasattr(response, \"content\"):\n",
        "        query_text = response.content.strip()  # Extract the query text\n",
        "\n",
        "        # Remove extraneous text if present (like \"Query:\" or SQL code blocks)\n",
        "        if \"```sql\" in query_text:\n",
        "            query_text = query_text.split(\"```sql\")[1]\n",
        "        if \"```\" in query_text:\n",
        "            query_text = query_text.split(\"```\")[0]\n",
        "        query_text = query_text.strip()\n",
        "\n",
        "        return {\"query\": query_text}\n",
        "    else:\n",
        "        raise ValueError(\"Unexpected response format. 'content' attribute not found.\")\n"
      ]
    },
    {
      "cell_type": "code",
      "source": [
        "def execute_query(state):\n",
        "    \"\"\"Execute SQL query.\"\"\"\n",
        "    try:\n",
        "        # Extract the query string from the state\n",
        "        query = state.get(\"query\")\n",
        "        if not query:\n",
        "            raise ValueError(\"No query found in the state.\")\n",
        "\n",
        "        # Debugging: Print the query being executed\n",
        "        print(f\"Executing Query: {query}\")\n",
        "\n",
        "        # Execute the query using the DuckDB connection\n",
        "        result = con.execute(query).fetchall()\n",
        "        return {\"result\": result}\n",
        "    except Exception as e:\n",
        "        print(f\"Error executing query: {e}\")\n",
        "        return {\"error\": str(e)}\n"
      ],
      "metadata": {
        "id": "Yzk2RXW-TQKq"
      },
      "execution_count": 137,
      "outputs": []
    },
    {
      "cell_type": "code",
      "execution_count": 138,
      "metadata": {
        "id": "XK-mUHIw-b6y",
        "outputId": "cd569ea0-39b2-4100-fa1b-5addd6ec6df9",
        "colab": {
          "base_uri": "https://localhost:8080/"
        }
      },
      "outputs": [
        {
          "output_type": "stream",
          "name": "stdout",
          "text": [
            "Raw LLM Response: content=\"```sql\\nSELECT *\\nFROM safety_occurrences\\nWHERE event_type = 'Incident' AND aircraft_model = 'A320';\\n```\" additional_kwargs={} response_metadata={'token_usage': {'completion_tokens': 27, 'prompt_tokens': 298, 'total_tokens': 325, 'completion_tokens_details': {'accepted_prediction_tokens': 0, 'audio_tokens': 0, 'reasoning_tokens': 0, 'rejected_prediction_tokens': 0}, 'prompt_tokens_details': {'audio_tokens': 0, 'cached_tokens': 0}}, 'model_name': 'gpt-4o', 'system_fingerprint': 'fp_4691090a87', 'finish_reason': 'stop', 'logprobs': None} id='run-284a7b0c-4c35-48f9-a1e4-124dcf6273c8-0'\n",
            "{'query': \"SELECT *\\nFROM safety_occurrences\\nWHERE event_type = 'Incident' AND aircraft_model = 'A320';\"}\n",
            "Executing Query: SELECT *\n",
            "FROM safety_occurrences\n",
            "WHERE event_type = 'Incident' AND aircraft_model = 'A320';\n"
          ]
        },
        {
          "output_type": "execute_result",
          "data": {
            "text/plain": [
              "{'result': [('Incident',\n",
              "   'A320',\n",
              "   'Commercial',\n",
              "   'Takeoff',\n",
              "   'Low',\n",
              "   'ATC',\n",
              "   datetime.date(2025, 1, 1),\n",
              "   'Heathrow',\n",
              "   'Human Error',\n",
              "   'Procedure Update'),\n",
              "  ('Incident',\n",
              "   'A320',\n",
              "   'Commercial',\n",
              "   'Cruise',\n",
              "   'Low',\n",
              "   'ATC',\n",
              "   datetime.date(2025, 1, 13),\n",
              "   'Changi',\n",
              "   'Human Error',\n",
              "   'Procedure Update'),\n",
              "  ('Incident',\n",
              "   'A320',\n",
              "   'Commercial',\n",
              "   'Landing',\n",
              "   'Low',\n",
              "   'ATC',\n",
              "   datetime.date(2025, 1, 25),\n",
              "   'Dubai',\n",
              "   'Human Error',\n",
              "   'Procedure Update'),\n",
              "  ('Incident',\n",
              "   'A320',\n",
              "   'Commercial',\n",
              "   'Climb',\n",
              "   'Low',\n",
              "   'ATC',\n",
              "   datetime.date(2025, 2, 6),\n",
              "   'JFK',\n",
              "   'Human Error',\n",
              "   'Procedure Update'),\n",
              "  ('Incident',\n",
              "   'A320',\n",
              "   'Commercial',\n",
              "   'Descent',\n",
              "   'Low',\n",
              "   'ATC',\n",
              "   datetime.date(2025, 2, 18),\n",
              "   'Frankfurt',\n",
              "   'Human Error',\n",
              "   'Procedure Update')]}"
            ]
          },
          "metadata": {},
          "execution_count": 138
        }
      ],
      "source": [
        "sql_query = write_query({\"question\": \"Occurrences of type Incident involving a A320 model?\"})\n",
        "print(sql_query)\n",
        "execute_query(sql_query)"
      ]
    },
    {
      "cell_type": "code",
      "source": [
        "# Define an interactive cell\n",
        "from IPython.display import display\n",
        "from ipywidgets import widgets\n",
        "\n",
        "# Create a text input widget\n",
        "question_input = widgets.Text(\n",
        "    value=\"\",\n",
        "    placeholder=\"Type your question here...\",\n",
        "    description=\"Question:\",\n",
        "    layout=widgets.Layout(width=\"90%\"),\n",
        ")\n",
        "\n",
        "# Create an output widget to display results\n",
        "output = widgets.Output()\n",
        "\n",
        "# Define a callback to handle the interaction\n",
        "def handle_query(change):\n",
        "    output.clear_output()  # Clear previous output\n",
        "    with output:\n",
        "        try:\n",
        "            # Fetch the SQL query using the user-provided question\n",
        "            sql_query = write_query({\"question\": question_input.value})\n",
        "            print(f\"Generated SQL Query:\\n{sql_query['query']}\")\n",
        "\n",
        "            # Execute the query and print the results (ensure execute_query is defined)\n",
        "            execute_query(sql_query)\n",
        "        except Exception as e:\n",
        "            print(f\"Error: {e}\")\n",
        "\n",
        "# Attach the callback to the input widget\n",
        "question_input.observe(handle_query, names=\"value\")\n",
        "\n",
        "# Display the interactive widgets\n",
        "display(question_input, output)\n"
      ],
      "metadata": {
        "id": "rDeivgQ1IjPm",
        "outputId": "c04c935c-6c22-4074-ade6-caadd950c07b",
        "colab": {
          "base_uri": "https://localhost:8080/",
          "height": 513,
          "referenced_widgets": [
            "b6c6f4cb5d5b4351b01a155cbff200bc",
            "1cf8cba6ba524676af19d4b0035647ae",
            "22e2cb794e5c45809e8a3c46deae4c81",
            "e55b7b31f8204772a77122955461df4a",
            "9c072fe9d3b849be8788f78569f4b1dd"
          ]
        }
      },
      "execution_count": 139,
      "outputs": [
        {
          "output_type": "display_data",
          "data": {
            "text/plain": [
              "Text(value='', description='Question:', layout=Layout(width='90%'), placeholder='Type your question here...')"
            ],
            "application/vnd.jupyter.widget-view+json": {
              "version_major": 2,
              "version_minor": 0,
              "model_id": "b6c6f4cb5d5b4351b01a155cbff200bc"
            }
          },
          "metadata": {}
        },
        {
          "output_type": "display_data",
          "data": {
            "text/plain": [
              "Output()"
            ],
            "application/vnd.jupyter.widget-view+json": {
              "version_major": 2,
              "version_minor": 0,
              "model_id": "e55b7b31f8204772a77122955461df4a"
            }
          },
          "metadata": {}
        }
      ]
    }
  ],
  "metadata": {
    "kernelspec": {
      "display_name": "3.12.7",
      "language": "python",
      "name": "python3"
    },
    "language_info": {
      "codemirror_mode": {
        "name": "ipython",
        "version": 3
      },
      "file_extension": ".py",
      "mimetype": "text/x-python",
      "name": "python",
      "nbconvert_exporter": "python",
      "pygments_lexer": "ipython3",
      "version": "3.12.7"
    },
    "colab": {
      "provenance": []
    },
    "widgets": {
      "application/vnd.jupyter.widget-state+json": {
        "b6c6f4cb5d5b4351b01a155cbff200bc": {
          "model_module": "@jupyter-widgets/controls",
          "model_name": "TextModel",
          "model_module_version": "1.5.0",
          "state": {
            "_dom_classes": [],
            "_model_module": "@jupyter-widgets/controls",
            "_model_module_version": "1.5.0",
            "_model_name": "TextModel",
            "_view_count": null,
            "_view_module": "@jupyter-widgets/controls",
            "_view_module_version": "1.5.0",
            "_view_name": "TextView",
            "continuous_update": true,
            "description": "Question:",
            "description_tooltip": null,
            "disabled": false,
            "layout": "IPY_MODEL_1cf8cba6ba524676af19d4b0035647ae",
            "placeholder": "Type your question here...",
            "style": "IPY_MODEL_22e2cb794e5c45809e8a3c46deae4c81",
            "value": "Event Type is 'accident', and Severity is 'high', and (Contributing Factors is one of the values 'weather' or 'humanError', or Phase of Flight is 'landing') is true, and Occurrence Date is greater than or equal to '2025-01-01'"
          }
        },
        "1cf8cba6ba524676af19d4b0035647ae": {
          "model_module": "@jupyter-widgets/base",
          "model_name": "LayoutModel",
          "model_module_version": "1.2.0",
          "state": {
            "_model_module": "@jupyter-widgets/base",
            "_model_module_version": "1.2.0",
            "_model_name": "LayoutModel",
            "_view_count": null,
            "_view_module": "@jupyter-widgets/base",
            "_view_module_version": "1.2.0",
            "_view_name": "LayoutView",
            "align_content": null,
            "align_items": null,
            "align_self": null,
            "border": null,
            "bottom": null,
            "display": null,
            "flex": null,
            "flex_flow": null,
            "grid_area": null,
            "grid_auto_columns": null,
            "grid_auto_flow": null,
            "grid_auto_rows": null,
            "grid_column": null,
            "grid_gap": null,
            "grid_row": null,
            "grid_template_areas": null,
            "grid_template_columns": null,
            "grid_template_rows": null,
            "height": null,
            "justify_content": null,
            "justify_items": null,
            "left": null,
            "margin": null,
            "max_height": null,
            "max_width": null,
            "min_height": null,
            "min_width": null,
            "object_fit": null,
            "object_position": null,
            "order": null,
            "overflow": null,
            "overflow_x": null,
            "overflow_y": null,
            "padding": null,
            "right": null,
            "top": null,
            "visibility": null,
            "width": "90%"
          }
        },
        "22e2cb794e5c45809e8a3c46deae4c81": {
          "model_module": "@jupyter-widgets/controls",
          "model_name": "DescriptionStyleModel",
          "model_module_version": "1.5.0",
          "state": {
            "_model_module": "@jupyter-widgets/controls",
            "_model_module_version": "1.5.0",
            "_model_name": "DescriptionStyleModel",
            "_view_count": null,
            "_view_module": "@jupyter-widgets/base",
            "_view_module_version": "1.2.0",
            "_view_name": "StyleView",
            "description_width": ""
          }
        },
        "e55b7b31f8204772a77122955461df4a": {
          "model_module": "@jupyter-widgets/output",
          "model_name": "OutputModel",
          "model_module_version": "1.0.0",
          "state": {
            "_dom_classes": [],
            "_model_module": "@jupyter-widgets/output",
            "_model_module_version": "1.0.0",
            "_model_name": "OutputModel",
            "_view_count": null,
            "_view_module": "@jupyter-widgets/output",
            "_view_module_version": "1.0.0",
            "_view_name": "OutputView",
            "layout": "IPY_MODEL_9c072fe9d3b849be8788f78569f4b1dd",
            "msg_id": "",
            "outputs": [
              {
                "output_type": "stream",
                "name": "stdout",
                "text": [
                  "Raw LLM Response: content=\"```sql\\nSELECT *\\nFROM safety_occurrences\\nWHERE event_type = 'Accident'\\n  AND severity = 'High'\\n  AND (\\n        contributing_factors IN ('Weather', 'Human Error')\\n        OR phase_of_flight = 'Landing'\\n      )\\n  AND occurrence_date >= '2025-01-01';\\n```\" additional_kwargs={} response_metadata={'token_usage': {'completion_tokens': 67, 'prompt_tokens': 348, 'total_tokens': 415, 'completion_tokens_details': {'accepted_prediction_tokens': 0, 'audio_tokens': 0, 'reasoning_tokens': 0, 'rejected_prediction_tokens': 0}, 'prompt_tokens_details': {'audio_tokens': 0, 'cached_tokens': 0}}, 'model_name': 'gpt-4o', 'system_fingerprint': 'fp_4691090a87', 'finish_reason': 'stop', 'logprobs': None} id='run-9145a89c-6383-40be-83b8-af412c905bbb-0'\n",
                  "Generated SQL Query:\n",
                  "SELECT *\n",
                  "FROM safety_occurrences\n",
                  "WHERE event_type = 'Accident'\n",
                  "  AND severity = 'High'\n",
                  "  AND (\n",
                  "        contributing_factors IN ('Weather', 'Human Error')\n",
                  "        OR phase_of_flight = 'Landing'\n",
                  "      )\n",
                  "  AND occurrence_date >= '2025-01-01';\n",
                  "Executing Query: SELECT *\n",
                  "FROM safety_occurrences\n",
                  "WHERE event_type = 'Accident'\n",
                  "  AND severity = 'High'\n",
                  "  AND (\n",
                  "        contributing_factors IN ('Weather', 'Human Error')\n",
                  "        OR phase_of_flight = 'Landing'\n",
                  "      )\n",
                  "  AND occurrence_date >= '2025-01-01';\n"
                ]
              }
            ]
          }
        },
        "9c072fe9d3b849be8788f78569f4b1dd": {
          "model_module": "@jupyter-widgets/base",
          "model_name": "LayoutModel",
          "model_module_version": "1.2.0",
          "state": {
            "_model_module": "@jupyter-widgets/base",
            "_model_module_version": "1.2.0",
            "_model_name": "LayoutModel",
            "_view_count": null,
            "_view_module": "@jupyter-widgets/base",
            "_view_module_version": "1.2.0",
            "_view_name": "LayoutView",
            "align_content": null,
            "align_items": null,
            "align_self": null,
            "border": null,
            "bottom": null,
            "display": null,
            "flex": null,
            "flex_flow": null,
            "grid_area": null,
            "grid_auto_columns": null,
            "grid_auto_flow": null,
            "grid_auto_rows": null,
            "grid_column": null,
            "grid_gap": null,
            "grid_row": null,
            "grid_template_areas": null,
            "grid_template_columns": null,
            "grid_template_rows": null,
            "height": null,
            "justify_content": null,
            "justify_items": null,
            "left": null,
            "margin": null,
            "max_height": null,
            "max_width": null,
            "min_height": null,
            "min_width": null,
            "object_fit": null,
            "object_position": null,
            "order": null,
            "overflow": null,
            "overflow_x": null,
            "overflow_y": null,
            "padding": null,
            "right": null,
            "top": null,
            "visibility": null,
            "width": null
          }
        }
      }
    }
  },
  "nbformat": 4,
  "nbformat_minor": 0
}